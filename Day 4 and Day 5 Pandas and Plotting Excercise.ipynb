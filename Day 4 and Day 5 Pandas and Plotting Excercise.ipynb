{
 "cells": [
  {
   "cell_type": "code",
   "execution_count": 1,
   "id": "6ce7619d",
   "metadata": {},
   "outputs": [],
   "source": [
    "import pandas as pd\n",
    "import numpy as np"
   ]
  },
  {
   "cell_type": "code",
   "execution_count": 2,
   "id": "34356f98",
   "metadata": {},
   "outputs": [
    {
     "data": {
      "text/plain": [
       "(450, 26)"
      ]
     },
     "execution_count": 2,
     "metadata": {},
     "output_type": "execute_result"
    }
   ],
   "source": [
    "#read csv file\n",
    "\n",
    "df = pd.read_csv('Value_of_Energy_Cost_Savings_Program_Savings_for_Businesses_-_FY2020.csv', parse_dates = True)\n",
    "\n",
    "#display shape\n",
    "df.shape"
   ]
  },
  {
   "cell_type": "code",
   "execution_count": 3,
   "id": "a3af4aa0",
   "metadata": {},
   "outputs": [
    {
     "data": {
      "text/html": [
       "<div>\n",
       "<style scoped>\n",
       "    .dataframe tbody tr th:only-of-type {\n",
       "        vertical-align: middle;\n",
       "    }\n",
       "\n",
       "    .dataframe tbody tr th {\n",
       "        vertical-align: top;\n",
       "    }\n",
       "\n",
       "    .dataframe thead th {\n",
       "        text-align: right;\n",
       "    }\n",
       "</style>\n",
       "<table border=\"1\" class=\"dataframe\">\n",
       "  <thead>\n",
       "    <tr style=\"text-align: right;\">\n",
       "      <th></th>\n",
       "      <th>Company Name</th>\n",
       "      <th>company contact</th>\n",
       "      <th>company email</th>\n",
       "      <th>company phone</th>\n",
       "      <th>Address</th>\n",
       "      <th>City</th>\n",
       "      <th>State</th>\n",
       "      <th>Postcode</th>\n",
       "      <th>Industry</th>\n",
       "      <th>Industry descr</th>\n",
       "      <th>Company Type</th>\n",
       "      <th>Current fulltime</th>\n",
       "      <th>Job created</th>\n",
       "      <th>Job retain</th>\n",
       "      <th>Effective Date</th>\n",
       "      <th>Total Savings</th>\n",
       "      <th>Savings from beginning receiving benefits</th>\n",
       "      <th>Borough</th>\n",
       "      <th>Latitude</th>\n",
       "      <th>Longitude</th>\n",
       "      <th>Community Board</th>\n",
       "      <th>Council District</th>\n",
       "      <th>Census Tract</th>\n",
       "      <th>BIN</th>\n",
       "      <th>BBL</th>\n",
       "      <th>NTA</th>\n",
       "    </tr>\n",
       "  </thead>\n",
       "  <tbody>\n",
       "    <tr>\n",
       "      <th>0</th>\n",
       "      <td>1 State Street</td>\n",
       "      <td>David Neiburg</td>\n",
       "      <td>eskoblo@energyspec.com</td>\n",
       "      <td>7186779077</td>\n",
       "      <td>1114 Avenue J</td>\n",
       "      <td>Brooklyn</td>\n",
       "      <td>NY</td>\n",
       "      <td>11230</td>\n",
       "      <td>Commercial</td>\n",
       "      <td>35 story building</td>\n",
       "      <td>LMEP</td>\n",
       "      <td>NaN</td>\n",
       "      <td>NaN</td>\n",
       "      <td>NaN</td>\n",
       "      <td>03/04/2005</td>\n",
       "      <td>0.00</td>\n",
       "      <td>349.78</td>\n",
       "      <td>Brooklyn</td>\n",
       "      <td>40.624784</td>\n",
       "      <td>-73.964920</td>\n",
       "      <td>314.0</td>\n",
       "      <td>44.0</td>\n",
       "      <td>534.0</td>\n",
       "      <td>3179818.0</td>\n",
       "      <td>3.067130e+09</td>\n",
       "      <td>Midwood</td>\n",
       "    </tr>\n",
       "    <tr>\n",
       "      <th>1</th>\n",
       "      <td>100 Church LLC</td>\n",
       "      <td>Edward A. Carroll</td>\n",
       "      <td>NaN</td>\n",
       "      <td>2125663000</td>\n",
       "      <td>100 Church Street</td>\n",
       "      <td>NY</td>\n",
       "      <td>NY</td>\n",
       "      <td>10007</td>\n",
       "      <td>Commercial</td>\n",
       "      <td>21 Floors</td>\n",
       "      <td>LMEP</td>\n",
       "      <td>NaN</td>\n",
       "      <td>NaN</td>\n",
       "      <td>NaN</td>\n",
       "      <td>04/02/2008</td>\n",
       "      <td>136578.20</td>\n",
       "      <td>4423698.05</td>\n",
       "      <td>New York</td>\n",
       "      <td>40.712968</td>\n",
       "      <td>-74.009490</td>\n",
       "      <td>101.0</td>\n",
       "      <td>1.0</td>\n",
       "      <td>21.0</td>\n",
       "      <td>1001409.0</td>\n",
       "      <td>1.001250e+09</td>\n",
       "      <td>SoHo-TriBeCa-Civic Center-Little Italy</td>\n",
       "    </tr>\n",
       "    <tr>\n",
       "      <th>2</th>\n",
       "      <td>100 Wall Investments</td>\n",
       "      <td>Jerry Branam</td>\n",
       "      <td>NaN</td>\n",
       "      <td>2122487160</td>\n",
       "      <td>96 Wall Street</td>\n",
       "      <td>New York</td>\n",
       "      <td>NY</td>\n",
       "      <td>10005</td>\n",
       "      <td>Landlord</td>\n",
       "      <td>NaN</td>\n",
       "      <td>LMEP</td>\n",
       "      <td>1238.0</td>\n",
       "      <td>NaN</td>\n",
       "      <td>NaN</td>\n",
       "      <td>01/05/2015</td>\n",
       "      <td>302959.40</td>\n",
       "      <td>1814542.62</td>\n",
       "      <td>New York</td>\n",
       "      <td>40.705052</td>\n",
       "      <td>-74.007199</td>\n",
       "      <td>101.0</td>\n",
       "      <td>1.0</td>\n",
       "      <td>7.0</td>\n",
       "      <td>1000875.0</td>\n",
       "      <td>1.000380e+09</td>\n",
       "      <td>Battery Park City-Lower Manhattan</td>\n",
       "    </tr>\n",
       "    <tr>\n",
       "      <th>3</th>\n",
       "      <td>1-10 Bush Terminal Owner LP</td>\n",
       "      <td>Andrew Kimball</td>\n",
       "      <td>akimball@industrycity.com</td>\n",
       "      <td>3474178429</td>\n",
       "      <td>220 36th St, Suite 2A</td>\n",
       "      <td>Brooklyn</td>\n",
       "      <td>NY</td>\n",
       "      <td>11232</td>\n",
       "      <td>Landlord</td>\n",
       "      <td>Special Eligible Premises for eligible businesses</td>\n",
       "      <td>ECSP</td>\n",
       "      <td>25.0</td>\n",
       "      <td>NaN</td>\n",
       "      <td>NaN</td>\n",
       "      <td>02/03/2020</td>\n",
       "      <td>2159.67</td>\n",
       "      <td>6755.31</td>\n",
       "      <td>Brooklyn</td>\n",
       "      <td>40.656061</td>\n",
       "      <td>-74.007334</td>\n",
       "      <td>307.0</td>\n",
       "      <td>38.0</td>\n",
       "      <td>2.0</td>\n",
       "      <td>3398687.0</td>\n",
       "      <td>3.006950e+09</td>\n",
       "      <td>Sunset Park West</td>\n",
       "    </tr>\n",
       "    <tr>\n",
       "      <th>4</th>\n",
       "      <td>120 Broadway Acquisitions JV, LLC (Ldmk)</td>\n",
       "      <td>Carl Letich</td>\n",
       "      <td>clettich@silvprop.com</td>\n",
       "      <td>2124064020</td>\n",
       "      <td>120 Broadway</td>\n",
       "      <td>New York</td>\n",
       "      <td>NY</td>\n",
       "      <td>10271</td>\n",
       "      <td>Commercial</td>\n",
       "      <td>NaN</td>\n",
       "      <td>LMEP</td>\n",
       "      <td>2699.0</td>\n",
       "      <td>NaN</td>\n",
       "      <td>NaN</td>\n",
       "      <td>06/30/2017</td>\n",
       "      <td>922407.32</td>\n",
       "      <td>3293055.08</td>\n",
       "      <td>New York</td>\n",
       "      <td>40.708546</td>\n",
       "      <td>-74.011041</td>\n",
       "      <td>101.0</td>\n",
       "      <td>1.0</td>\n",
       "      <td>7.0</td>\n",
       "      <td>1001026.0</td>\n",
       "      <td>1.000478e+09</td>\n",
       "      <td>Battery Park City-Lower Manhattan</td>\n",
       "    </tr>\n",
       "  </tbody>\n",
       "</table>\n",
       "</div>"
      ],
      "text/plain": [
       "                               Company Name    company contact  \\\n",
       "0                            1 State Street      David Neiburg   \n",
       "1                            100 Church LLC  Edward A. Carroll   \n",
       "2                      100 Wall Investments       Jerry Branam   \n",
       "3               1-10 Bush Terminal Owner LP     Andrew Kimball   \n",
       "4  120 Broadway Acquisitions JV, LLC (Ldmk)        Carl Letich   \n",
       "\n",
       "               company email company phone                Address      City  \\\n",
       "0     eskoblo@energyspec.com    7186779077          1114 Avenue J  Brooklyn   \n",
       "1                        NaN    2125663000      100 Church Street        NY   \n",
       "2                        NaN    2122487160         96 Wall Street  New York   \n",
       "3  akimball@industrycity.com    3474178429  220 36th St, Suite 2A  Brooklyn   \n",
       "4      clettich@silvprop.com    2124064020           120 Broadway  New York   \n",
       "\n",
       "  State  Postcode    Industry  \\\n",
       "0    NY     11230  Commercial   \n",
       "1    NY     10007  Commercial   \n",
       "2    NY     10005    Landlord   \n",
       "3    NY     11232    Landlord   \n",
       "4    NY     10271  Commercial   \n",
       "\n",
       "                                      Industry descr Company Type  \\\n",
       "0                                  35 story building         LMEP   \n",
       "1                                          21 Floors         LMEP   \n",
       "2                                                NaN         LMEP   \n",
       "3  Special Eligible Premises for eligible businesses         ECSP   \n",
       "4                                                NaN         LMEP   \n",
       "\n",
       "   Current fulltime  Job created  Job retain Effective Date  Total Savings  \\\n",
       "0               NaN          NaN         NaN     03/04/2005           0.00   \n",
       "1               NaN          NaN         NaN     04/02/2008      136578.20   \n",
       "2            1238.0          NaN         NaN     01/05/2015      302959.40   \n",
       "3              25.0          NaN         NaN     02/03/2020        2159.67   \n",
       "4            2699.0          NaN         NaN     06/30/2017      922407.32   \n",
       "\n",
       "   Savings from beginning receiving benefits   Borough   Latitude  Longitude  \\\n",
       "0                                     349.78  Brooklyn  40.624784 -73.964920   \n",
       "1                                 4423698.05  New York  40.712968 -74.009490   \n",
       "2                                 1814542.62  New York  40.705052 -74.007199   \n",
       "3                                    6755.31  Brooklyn  40.656061 -74.007334   \n",
       "4                                 3293055.08  New York  40.708546 -74.011041   \n",
       "\n",
       "   Community Board  Council District  Census Tract        BIN           BBL  \\\n",
       "0            314.0              44.0         534.0  3179818.0  3.067130e+09   \n",
       "1            101.0               1.0          21.0  1001409.0  1.001250e+09   \n",
       "2            101.0               1.0           7.0  1000875.0  1.000380e+09   \n",
       "3            307.0              38.0           2.0  3398687.0  3.006950e+09   \n",
       "4            101.0               1.0           7.0  1001026.0  1.000478e+09   \n",
       "\n",
       "                                      NTA  \n",
       "0                                 Midwood  \n",
       "1  SoHo-TriBeCa-Civic Center-Little Italy  \n",
       "2       Battery Park City-Lower Manhattan  \n",
       "3                        Sunset Park West  \n",
       "4       Battery Park City-Lower Manhattan  "
      ]
     },
     "execution_count": 3,
     "metadata": {},
     "output_type": "execute_result"
    }
   ],
   "source": [
    "pd.set_option('display.max_columns', None)\n",
    "df.head()"
   ]
  },
  {
   "cell_type": "code",
   "execution_count": 4,
   "id": "50f208bc",
   "metadata": {},
   "outputs": [
    {
     "data": {
      "text/plain": [
       "(450, 26)"
      ]
     },
     "execution_count": 4,
     "metadata": {},
     "output_type": "execute_result"
    }
   ],
   "source": [
    "df.shape"
   ]
  },
  {
   "cell_type": "markdown",
   "id": "e3ce1b9e",
   "metadata": {},
   "source": [
    "# 4.1) How many different companies are represented in the data set?"
   ]
  },
  {
   "cell_type": "code",
   "execution_count": 5,
   "id": "bbf37ceb",
   "metadata": {},
   "outputs": [
    {
     "data": {
      "text/plain": [
       "439"
      ]
     },
     "execution_count": 5,
     "metadata": {},
     "output_type": "execute_result"
    }
   ],
   "source": [
    "df['Company Name'].nunique()"
   ]
  },
  {
   "cell_type": "markdown",
   "id": "368a1a12",
   "metadata": {},
   "source": [
    "# 4.2) What is the total number of jobs created for businesses in Queens?"
   ]
  },
  {
   "cell_type": "code",
   "execution_count": 6,
   "id": "bcb1bc3d",
   "metadata": {},
   "outputs": [
    {
     "data": {
      "text/html": [
       "<div>\n",
       "<style scoped>\n",
       "    .dataframe tbody tr th:only-of-type {\n",
       "        vertical-align: middle;\n",
       "    }\n",
       "\n",
       "    .dataframe tbody tr th {\n",
       "        vertical-align: top;\n",
       "    }\n",
       "\n",
       "    .dataframe thead th {\n",
       "        text-align: right;\n",
       "    }\n",
       "</style>\n",
       "<table border=\"1\" class=\"dataframe\">\n",
       "  <thead>\n",
       "    <tr style=\"text-align: right;\">\n",
       "      <th></th>\n",
       "      <th>Company Name</th>\n",
       "      <th>City</th>\n",
       "      <th>Job created</th>\n",
       "    </tr>\n",
       "  </thead>\n",
       "  <tbody>\n",
       "    <tr>\n",
       "      <th>15</th>\n",
       "      <td>538-540 West 35 Corp</td>\n",
       "      <td>Queens</td>\n",
       "      <td>NaN</td>\n",
       "    </tr>\n",
       "    <tr>\n",
       "      <th>19</th>\n",
       "      <td>A &amp; L Scientific Corp.</td>\n",
       "      <td>Queens</td>\n",
       "      <td>NaN</td>\n",
       "    </tr>\n",
       "    <tr>\n",
       "      <th>20</th>\n",
       "      <td>A.K.S. International, Inc</td>\n",
       "      <td>Queens</td>\n",
       "      <td>NaN</td>\n",
       "    </tr>\n",
       "    <tr>\n",
       "      <th>37</th>\n",
       "      <td>ALLE PROCESSING CORP.</td>\n",
       "      <td>Queens</td>\n",
       "      <td>60.0</td>\n",
       "    </tr>\n",
       "    <tr>\n",
       "      <th>45</th>\n",
       "      <td>American Torque, Inc.</td>\n",
       "      <td>Queens</td>\n",
       "      <td>NaN</td>\n",
       "    </tr>\n",
       "  </tbody>\n",
       "</table>\n",
       "</div>"
      ],
      "text/plain": [
       "                 Company Name    City  Job created\n",
       "15       538-540 West 35 Corp  Queens          NaN\n",
       "19     A & L Scientific Corp.  Queens          NaN\n",
       "20  A.K.S. International, Inc  Queens          NaN\n",
       "37      ALLE PROCESSING CORP.  Queens         60.0\n",
       "45      American Torque, Inc.  Queens          NaN"
      ]
     },
     "execution_count": 6,
     "metadata": {},
     "output_type": "execute_result"
    }
   ],
   "source": [
    "# All Companies in Queens\n",
    "\n",
    "companies_in_queens = df.loc[df['City'].str.contains('queens', case= False), ['Company Name', 'City', 'Job created']]\n",
    "companies_in_queens.head()"
   ]
  },
  {
   "cell_type": "code",
   "execution_count": 7,
   "id": "76073179",
   "metadata": {},
   "outputs": [
    {
     "data": {
      "text/plain": [
       "90.0"
      ]
     },
     "execution_count": 7,
     "metadata": {},
     "output_type": "execute_result"
    }
   ],
   "source": [
    "#total jobs created for all businesses in Queens\n",
    "\n",
    "companies_in_queens['Job created'].sum()"
   ]
  },
  {
   "cell_type": "markdown",
   "id": "343306cd",
   "metadata": {},
   "source": [
    "# 4.3) How many different unique email domain names are there in the data set?"
   ]
  },
  {
   "cell_type": "code",
   "execution_count": 11,
   "id": "fa56f6ee",
   "metadata": {},
   "outputs": [
    {
     "data": {
      "text/plain": [
       "356"
      ]
     },
     "execution_count": 11,
     "metadata": {},
     "output_type": "execute_result"
    }
   ],
   "source": [
    "# extract email domain names from company email\n",
    "\n",
    "df['email_domain'] = df['company email'].str.split('@').str[1]\n",
    "\n",
    "\n",
    "# count the unique domain names\n",
    "\n",
    "df['email_domain'].nunique()"
   ]
  },
  {
   "cell_type": "markdown",
   "id": "61d0c610",
   "metadata": {},
   "source": [
    "# 4.4) Considering only NTAs with at least 5 listed businesses, what is the average total savings and the total jobs created for each NTA?"
   ]
  },
  {
   "cell_type": "code",
   "execution_count": 9,
   "id": "067352ef",
   "metadata": {},
   "outputs": [],
   "source": [
    "# Create DateFrame for NTAs with at least 5 listed businesses\n",
    "\n",
    "df_NTA = df.groupby('NTA').filter(lambda x: len(x) >= 5)\n"
   ]
  },
  {
   "cell_type": "code",
   "execution_count": 12,
   "id": "0cc0657e",
   "metadata": {},
   "outputs": [
    {
     "data": {
      "text/plain": [
       "NTA\n",
       "Battery Park City-Lower Manhattan                   469890.796667\n",
       "Queensbridge-Ravenswood-Long Island City             61830.770625\n",
       "DUMBO-Vinegar Hill-Downtown Brooklyn-Boerum Hill     59950.340000\n",
       "East New York                                        48433.093333\n",
       "Hunts Point                                          39246.016154\n",
       "SoHo-TriBeCa-Civic Center-Little Italy               37214.024000\n",
       "Bushwick South                                       26140.455000\n",
       "Carroll Gardens-Columbia Street-Red Hook             24337.390000\n",
       "Hunters Point-Sunnyside-West Maspeth                 23931.398933\n",
       "Mott Haven-Port Morris                               17843.937857\n",
       "Springfield Gardens South-Brookville                 17757.662000\n",
       "College Point                                        17159.372857\n",
       "park-cemetery-etc-Brooklyn                           14327.419333\n",
       "Sunset Park West                                     14316.976875\n",
       "East Williamsburg                                    13990.626364\n",
       "Steinway                                             11227.155714\n",
       "Greenpoint                                            9753.649286\n",
       "Maspeth                                               6658.283333\n",
       "Crown Heights North                                   4036.298889\n",
       "Manhattanville                                        2760.888889\n",
       "Name: Total Savings, dtype: float64"
      ]
     },
     "execution_count": 12,
     "metadata": {},
     "output_type": "execute_result"
    }
   ],
   "source": [
    "#find the mean of total savings by NTA\n",
    "\n",
    "mean_savings_by_NTA = df_NTA.groupby('NTA')['Total Savings'].mean()\n",
    "\n",
    "mean_savings_by_NTA.sort_values(ascending = False)"
   ]
  },
  {
   "cell_type": "code",
   "execution_count": 13,
   "id": "3c3e5372",
   "metadata": {},
   "outputs": [
    {
     "data": {
      "text/plain": [
       "NTA\n",
       "Steinway                                            20.0\n",
       "East New York                                       15.0\n",
       "Hunts Point                                         12.0\n",
       "Maspeth                                             10.0\n",
       "Mott Haven-Port Morris                              10.0\n",
       "Bushwick South                                      10.0\n",
       "College Point                                        2.0\n",
       "Sunset Park West                                     0.0\n",
       "Springfield Gardens South-Brookville                 0.0\n",
       "SoHo-TriBeCa-Civic Center-Little Italy               0.0\n",
       "Queensbridge-Ravenswood-Long Island City             0.0\n",
       "Battery Park City-Lower Manhattan                    0.0\n",
       "Manhattanville                                       0.0\n",
       "Hunters Point-Sunnyside-West Maspeth                 0.0\n",
       "Greenpoint                                           0.0\n",
       "East Williamsburg                                    0.0\n",
       "DUMBO-Vinegar Hill-Downtown Brooklyn-Boerum Hill     0.0\n",
       "Crown Heights North                                  0.0\n",
       "Carroll Gardens-Columbia Street-Red Hook             0.0\n",
       "park-cemetery-etc-Brooklyn                           0.0\n",
       "Name: Job created, dtype: float64"
      ]
     },
     "execution_count": 13,
     "metadata": {},
     "output_type": "execute_result"
    }
   ],
   "source": [
    "# find the sum of total jobs created for each NTA\n",
    "\n",
    "total_jobs_by_NTA = df_NTA.groupby('NTA')['Job created'].sum()\n",
    "\n",
    "total_jobs_by_NTA.sort_values(ascending = False)"
   ]
  },
  {
   "cell_type": "markdown",
   "id": "8ae73925",
   "metadata": {},
   "source": [
    "# 4.5) Save your result for the previous question as a CSV file."
   ]
  },
  {
   "cell_type": "code",
   "execution_count": 14,
   "id": "4040b04c",
   "metadata": {},
   "outputs": [
    {
     "data": {
      "text/html": [
       "<div>\n",
       "<style scoped>\n",
       "    .dataframe tbody tr th:only-of-type {\n",
       "        vertical-align: middle;\n",
       "    }\n",
       "\n",
       "    .dataframe tbody tr th {\n",
       "        vertical-align: top;\n",
       "    }\n",
       "\n",
       "    .dataframe thead th {\n",
       "        text-align: right;\n",
       "    }\n",
       "</style>\n",
       "<table border=\"1\" class=\"dataframe\">\n",
       "  <thead>\n",
       "    <tr style=\"text-align: right;\">\n",
       "      <th></th>\n",
       "      <th>Avg Total Savings</th>\n",
       "      <th>Total Jobs Created</th>\n",
       "    </tr>\n",
       "    <tr>\n",
       "      <th>NTA</th>\n",
       "      <th></th>\n",
       "      <th></th>\n",
       "    </tr>\n",
       "  </thead>\n",
       "  <tbody>\n",
       "    <tr>\n",
       "      <th>Battery Park City-Lower Manhattan</th>\n",
       "      <td>469890.796667</td>\n",
       "      <td>0.0</td>\n",
       "    </tr>\n",
       "    <tr>\n",
       "      <th>Bushwick South</th>\n",
       "      <td>26140.455000</td>\n",
       "      <td>10.0</td>\n",
       "    </tr>\n",
       "    <tr>\n",
       "      <th>Carroll Gardens-Columbia Street-Red Hook</th>\n",
       "      <td>24337.390000</td>\n",
       "      <td>0.0</td>\n",
       "    </tr>\n",
       "    <tr>\n",
       "      <th>College Point</th>\n",
       "      <td>17159.372857</td>\n",
       "      <td>2.0</td>\n",
       "    </tr>\n",
       "    <tr>\n",
       "      <th>Crown Heights North</th>\n",
       "      <td>4036.298889</td>\n",
       "      <td>0.0</td>\n",
       "    </tr>\n",
       "    <tr>\n",
       "      <th>DUMBO-Vinegar Hill-Downtown Brooklyn-Boerum Hill</th>\n",
       "      <td>59950.340000</td>\n",
       "      <td>0.0</td>\n",
       "    </tr>\n",
       "    <tr>\n",
       "      <th>East New York</th>\n",
       "      <td>48433.093333</td>\n",
       "      <td>15.0</td>\n",
       "    </tr>\n",
       "    <tr>\n",
       "      <th>East Williamsburg</th>\n",
       "      <td>13990.626364</td>\n",
       "      <td>0.0</td>\n",
       "    </tr>\n",
       "    <tr>\n",
       "      <th>Greenpoint</th>\n",
       "      <td>9753.649286</td>\n",
       "      <td>0.0</td>\n",
       "    </tr>\n",
       "    <tr>\n",
       "      <th>Hunters Point-Sunnyside-West Maspeth</th>\n",
       "      <td>23931.398933</td>\n",
       "      <td>0.0</td>\n",
       "    </tr>\n",
       "    <tr>\n",
       "      <th>Hunts Point</th>\n",
       "      <td>39246.016154</td>\n",
       "      <td>12.0</td>\n",
       "    </tr>\n",
       "    <tr>\n",
       "      <th>Manhattanville</th>\n",
       "      <td>2760.888889</td>\n",
       "      <td>0.0</td>\n",
       "    </tr>\n",
       "    <tr>\n",
       "      <th>Maspeth</th>\n",
       "      <td>6658.283333</td>\n",
       "      <td>10.0</td>\n",
       "    </tr>\n",
       "    <tr>\n",
       "      <th>Mott Haven-Port Morris</th>\n",
       "      <td>17843.937857</td>\n",
       "      <td>10.0</td>\n",
       "    </tr>\n",
       "    <tr>\n",
       "      <th>Queensbridge-Ravenswood-Long Island City</th>\n",
       "      <td>61830.770625</td>\n",
       "      <td>0.0</td>\n",
       "    </tr>\n",
       "    <tr>\n",
       "      <th>SoHo-TriBeCa-Civic Center-Little Italy</th>\n",
       "      <td>37214.024000</td>\n",
       "      <td>0.0</td>\n",
       "    </tr>\n",
       "    <tr>\n",
       "      <th>Springfield Gardens South-Brookville</th>\n",
       "      <td>17757.662000</td>\n",
       "      <td>0.0</td>\n",
       "    </tr>\n",
       "    <tr>\n",
       "      <th>Steinway</th>\n",
       "      <td>11227.155714</td>\n",
       "      <td>20.0</td>\n",
       "    </tr>\n",
       "    <tr>\n",
       "      <th>Sunset Park West</th>\n",
       "      <td>14316.976875</td>\n",
       "      <td>0.0</td>\n",
       "    </tr>\n",
       "    <tr>\n",
       "      <th>park-cemetery-etc-Brooklyn</th>\n",
       "      <td>14327.419333</td>\n",
       "      <td>0.0</td>\n",
       "    </tr>\n",
       "  </tbody>\n",
       "</table>\n",
       "</div>"
      ],
      "text/plain": [
       "                                                  Avg Total Savings  \\\n",
       "NTA                                                                   \n",
       "Battery Park City-Lower Manhattan                     469890.796667   \n",
       "Bushwick South                                         26140.455000   \n",
       "Carroll Gardens-Columbia Street-Red Hook               24337.390000   \n",
       "College Point                                          17159.372857   \n",
       "Crown Heights North                                     4036.298889   \n",
       "DUMBO-Vinegar Hill-Downtown Brooklyn-Boerum Hill       59950.340000   \n",
       "East New York                                          48433.093333   \n",
       "East Williamsburg                                      13990.626364   \n",
       "Greenpoint                                              9753.649286   \n",
       "Hunters Point-Sunnyside-West Maspeth                   23931.398933   \n",
       "Hunts Point                                            39246.016154   \n",
       "Manhattanville                                          2760.888889   \n",
       "Maspeth                                                 6658.283333   \n",
       "Mott Haven-Port Morris                                 17843.937857   \n",
       "Queensbridge-Ravenswood-Long Island City               61830.770625   \n",
       "SoHo-TriBeCa-Civic Center-Little Italy                 37214.024000   \n",
       "Springfield Gardens South-Brookville                   17757.662000   \n",
       "Steinway                                               11227.155714   \n",
       "Sunset Park West                                       14316.976875   \n",
       "park-cemetery-etc-Brooklyn                             14327.419333   \n",
       "\n",
       "                                                  Total Jobs Created  \n",
       "NTA                                                                   \n",
       "Battery Park City-Lower Manhattan                                0.0  \n",
       "Bushwick South                                                  10.0  \n",
       "Carroll Gardens-Columbia Street-Red Hook                         0.0  \n",
       "College Point                                                    2.0  \n",
       "Crown Heights North                                              0.0  \n",
       "DUMBO-Vinegar Hill-Downtown Brooklyn-Boerum Hill                 0.0  \n",
       "East New York                                                   15.0  \n",
       "East Williamsburg                                                0.0  \n",
       "Greenpoint                                                       0.0  \n",
       "Hunters Point-Sunnyside-West Maspeth                             0.0  \n",
       "Hunts Point                                                     12.0  \n",
       "Manhattanville                                                   0.0  \n",
       "Maspeth                                                         10.0  \n",
       "Mott Haven-Port Morris                                          10.0  \n",
       "Queensbridge-Ravenswood-Long Island City                         0.0  \n",
       "SoHo-TriBeCa-Civic Center-Little Italy                           0.0  \n",
       "Springfield Gardens South-Brookville                             0.0  \n",
       "Steinway                                                        20.0  \n",
       "Sunset Park West                                                 0.0  \n",
       "park-cemetery-etc-Brooklyn                                       0.0  "
      ]
     },
     "execution_count": 14,
     "metadata": {},
     "output_type": "execute_result"
    }
   ],
   "source": [
    "# combining the above two series into a final dataframe\n",
    "\n",
    "df_final = pd.concat([mean_savings_by_NTA, total_jobs_by_NTA], axis = 1 )\n",
    "\n",
    "# rename columns with the approproiate names\n",
    "\n",
    "df_final = df_final.rename(columns = {'Total Savings': 'Avg Total Savings', 'Job created': 'Total Jobs Created'})\n",
    "df_final"
   ]
  },
  {
   "cell_type": "code",
   "execution_count": 15,
   "id": "b5721cef",
   "metadata": {},
   "outputs": [],
   "source": [
    "# write df_final to results.csv\n",
    "\n",
    "df_final.to_csv('results.csv')"
   ]
  },
  {
   "cell_type": "markdown",
   "id": "2d5a4147",
   "metadata": {},
   "source": [
    "# 5.1) Scatter plot of jobs created versus average savings (standard scale)"
   ]
  },
  {
   "cell_type": "code",
   "execution_count": 16,
   "id": "22c776ee",
   "metadata": {},
   "outputs": [
    {
     "data": {
      "text/plain": [
       "<matplotlib.collections.PathCollection at 0x23c8cad68c0>"
      ]
     },
     "execution_count": 16,
     "metadata": {},
     "output_type": "execute_result"
    },
    {
     "data": {
      "image/png": "[encoded data removed]",
      "text/plain": [
       "<Figure size 640x480 with 1 Axes>"
      ]
     },
     "metadata": {},
     "output_type": "display_data"
    }
   ],
   "source": [
    "import matplotlib.pyplot as plt\n",
    "\n",
    "\n",
    "#create arrays for jobs created and avg savings\n",
    "\n",
    "jobs_arr = df_final['Total Jobs Created'].to_numpy()\n",
    "avgSavings_arr = df_final['Avg Total Savings'].to_numpy()\n",
    "\n",
    "color_arr =  np.random.rand(20)\n",
    "plt.xlabel('Total Jobs Created')\n",
    "plt.ylabel('Avg Total Savings')\n",
    "plt.title('Total Jobs Created vs Avg Total Savings')\n",
    "\n",
    "plt.scatter(jobs_arr, avgSavings_arr, s= 200, c = color_arr, alpha=0.6 )\n",
    "\n",
    "#plt.scatter?"
   ]
  },
  {
   "cell_type": "markdown",
   "id": "abbc1bb2",
   "metadata": {},
   "source": [
    "# 5.2) Scatter plot of jobs created versus average savings (log scale)"
   ]
  },
  {
   "cell_type": "code",
   "execution_count": 136,
   "id": "11d19ea4",
   "metadata": {
    "scrolled": true
   },
   "outputs": [
    {
     "data": {
      "image/png": "[encoded data removed]",
      "text/plain": [
       "<Figure size 640x480 with 1 Axes>"
      ]
     },
     "metadata": {},
     "output_type": "display_data"
    }
   ],
   "source": [
    "plt.scatter(jobs_arr, avgSavings_arr, s= 200, c = color_arr, alpha=0.6)\n",
    "plt.yscale('log')"
   ]
  },
  {
   "cell_type": "markdown",
   "id": "668f9c51",
   "metadata": {},
   "source": [
    "# 5.3) Histogram of the log of the average total savings."
   ]
  },
  {
   "cell_type": "code",
   "execution_count": 18,
   "id": "7a35fa30",
   "metadata": {},
   "outputs": [
    {
     "data": {
      "text/plain": [
       "Text(0.5, 1.0, 'Histogram of Log of Total Savings')"
      ]
     },
     "execution_count": 18,
     "metadata": {},
     "output_type": "execute_result"
    },
    {
     "data": {
      "image/png": "[encoded data removed]",
      "text/plain": [
       "<Figure size 640x480 with 1 Axes>"
      ]
     },
     "metadata": {},
     "output_type": "display_data"
    }
   ],
   "source": [
    "#bin size - square root of numbers of rows\n",
    "#bins = int(np.sqrt(len(total_savings_arr)))\n",
    "\n",
    "plt.hist(avgSavings_arr, bins=len(avgSavings_arr), density=False, stacked=True)\n",
    "plt.xscale('log')\n",
    "plt.xlabel('Total Savings (Log Scale)')\n",
    "plt.title('Histogram of Log of Total Savings')\n",
    "#plt.xlim(0, pow(10, 5))"
   ]
  },
  {
   "cell_type": "markdown",
   "id": "6d4e7553",
   "metadata": {},
   "source": [
    "# 5.4) Line plot of total jobs created each month"
   ]
  },
  {
   "cell_type": "code",
   "execution_count": 129,
   "id": "1ffbd374",
   "metadata": {},
   "outputs": [
    {
     "data": {
      "text/html": [
       "<div>\n",
       "<style scoped>\n",
       "    .dataframe tbody tr th:only-of-type {\n",
       "        vertical-align: middle;\n",
       "    }\n",
       "\n",
       "    .dataframe tbody tr th {\n",
       "        vertical-align: top;\n",
       "    }\n",
       "\n",
       "    .dataframe thead th {\n",
       "        text-align: right;\n",
       "    }\n",
       "</style>\n",
       "<table border=\"1\" class=\"dataframe\">\n",
       "  <thead>\n",
       "    <tr style=\"text-align: right;\">\n",
       "      <th></th>\n",
       "      <th>Effective Date</th>\n",
       "      <th>Job created</th>\n",
       "      <th>YYYY-MM</th>\n",
       "    </tr>\n",
       "  </thead>\n",
       "  <tbody>\n",
       "    <tr>\n",
       "      <th>414</th>\n",
       "      <td>1993-02-05</td>\n",
       "      <td>15.0</td>\n",
       "      <td>1993-02-01</td>\n",
       "    </tr>\n",
       "    <tr>\n",
       "      <th>29</th>\n",
       "      <td>2004-03-05</td>\n",
       "      <td>10.0</td>\n",
       "      <td>2004-03-01</td>\n",
       "    </tr>\n",
       "    <tr>\n",
       "      <th>120</th>\n",
       "      <td>2005-02-03</td>\n",
       "      <td>12.0</td>\n",
       "      <td>2005-02-01</td>\n",
       "    </tr>\n",
       "    <tr>\n",
       "      <th>137</th>\n",
       "      <td>2006-03-01</td>\n",
       "      <td>10.0</td>\n",
       "      <td>2006-03-01</td>\n",
       "    </tr>\n",
       "    <tr>\n",
       "      <th>353</th>\n",
       "      <td>2007-04-10</td>\n",
       "      <td>2.0</td>\n",
       "      <td>2007-04-01</td>\n",
       "    </tr>\n",
       "    <tr>\n",
       "      <th>325</th>\n",
       "      <td>2007-05-02</td>\n",
       "      <td>2.0</td>\n",
       "      <td>2007-05-01</td>\n",
       "    </tr>\n",
       "    <tr>\n",
       "      <th>432</th>\n",
       "      <td>2007-06-08</td>\n",
       "      <td>3.0</td>\n",
       "      <td>2007-06-01</td>\n",
       "    </tr>\n",
       "    <tr>\n",
       "      <th>37</th>\n",
       "      <td>2007-06-28</td>\n",
       "      <td>60.0</td>\n",
       "      <td>2007-06-01</td>\n",
       "    </tr>\n",
       "    <tr>\n",
       "      <th>433</th>\n",
       "      <td>2007-07-02</td>\n",
       "      <td>20.0</td>\n",
       "      <td>2007-07-01</td>\n",
       "    </tr>\n",
       "    <tr>\n",
       "      <th>95</th>\n",
       "      <td>2007-11-06</td>\n",
       "      <td>5.0</td>\n",
       "      <td>2007-11-01</td>\n",
       "    </tr>\n",
       "    <tr>\n",
       "      <th>445</th>\n",
       "      <td>2008-12-09</td>\n",
       "      <td>10.0</td>\n",
       "      <td>2008-12-01</td>\n",
       "    </tr>\n",
       "  </tbody>\n",
       "</table>\n",
       "</div>"
      ],
      "text/plain": [
       "    Effective Date  Job created    YYYY-MM\n",
       "414     1993-02-05         15.0 1993-02-01\n",
       "29      2004-03-05         10.0 2004-03-01\n",
       "120     2005-02-03         12.0 2005-02-01\n",
       "137     2006-03-01         10.0 2006-03-01\n",
       "353     2007-04-10          2.0 2007-04-01\n",
       "325     2007-05-02          2.0 2007-05-01\n",
       "432     2007-06-08          3.0 2007-06-01\n",
       "37      2007-06-28         60.0 2007-06-01\n",
       "433     2007-07-02         20.0 2007-07-01\n",
       "95      2007-11-06          5.0 2007-11-01\n",
       "445     2008-12-09         10.0 2008-12-01"
      ]
     },
     "execution_count": 129,
     "metadata": {},
     "output_type": "execute_result"
    }
   ],
   "source": [
    "# filter dataframe for records where job created value exists\n",
    "\n",
    "jobsCreated = df.loc[df['Job created'].notna(), ['Effective Date', 'Job created']]\n",
    "\n",
    "#sort values by dates for plotting\n",
    "jobsCreated['Effective Date'] = pd.to_datetime(jobsCreated['Effective Date'])\n",
    "jobsCreated = jobsCreated.sort_values(by=['Effective Date'])\n",
    "\n",
    "# truncate dates to month level\n",
    "jobsCreated['YYYY-MM'] = jobsCreated['Effective Date'].dt.to_period('M').dt.to_timestamp()\n",
    "\n",
    "jobsCreated\n"
   ]
  },
  {
   "cell_type": "code",
   "execution_count": 135,
   "id": "60f117e1",
   "metadata": {},
   "outputs": [
    {
     "data": {
      "text/plain": [
       "Text(0, 0.5, 'Jobs Created')"
      ]
     },
     "execution_count": 135,
     "metadata": {},
     "output_type": "execute_result"
    },
    {
     "data": {
      "image/png": "[encoded data removed]",
      "text/plain": [
       "<Figure size 1000x500 with 1 Axes>"
      ]
     },
     "metadata": {},
     "output_type": "display_data"
    }
   ],
   "source": [
    "#plottig the graph\n",
    "\n",
    "fig1 = plt.figure(figsize = (10,5))\n",
    "axes1 = fig1.add_axes([0.1, 0.1, 0.9, 0.9])\n",
    "\n",
    "axes1.plot(jobsCreated['YYYY-MM'], jobsCreated['Job created'], color = 'navy', alpha = 0.75, lw = 2, marker = 'o', markersize = 7,\n",
    "        markerfacecolor = 'y')\n",
    "\n",
    "axes1.set_title('Total Jobs created by Month')\n",
    "axes1.set_xlabel('Effective Date')\n",
    "axes1.set_ylabel('Jobs Created')\n",
    "\n"
   ]
  },
  {
   "cell_type": "code",
   "execution_count": null,
   "id": "eeaec8ea",
   "metadata": {},
   "outputs": [],
   "source": []
  }
 ],
 "metadata": {
  "kernelspec": {
   "display_name": "Python 3 (ipykernel)",
   "language": "python",
   "name": "python3"
  },
  "language_info": {
   "codemirror_mode": {
    "name": "ipython",
    "version": 3
   },
   "file_extension": ".py",
   "mimetype": "text/x-python",
   "name": "python",
   "nbconvert_exporter": "python",
   "pygments_lexer": "ipython3",
   "version": "3.10.9"
  }
 },
 "nbformat": 4,
 "nbformat_minor": 5
}
